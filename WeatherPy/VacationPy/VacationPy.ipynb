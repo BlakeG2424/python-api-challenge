{
 "cells": [
  {
   "cell_type": "markdown",
   "metadata": {},
   "source": [
    "# VacationPy\n",
    "---\n",
    "\n",
    "## Starter Code to Import Libraries and Load the Weather and Coordinates Data"
   ]
  },
  {
   "cell_type": "code",
   "execution_count": 3,
   "metadata": {},
   "outputs": [
    {
     "ename": "ModuleNotFoundError",
     "evalue": "No module named 'api_key'",
     "output_type": "error",
     "traceback": [
      "\u001b[0;31m---------------------------------------------------------------------------\u001b[0m",
      "\u001b[0;31mModuleNotFoundError\u001b[0m                       Traceback (most recent call last)",
      "\u001b[0;32m/var/folders/t8/c0vc3sw57hjf418ph0zw30n40000gn/T/ipykernel_50053/393400173.py\u001b[0m in \u001b[0;36m<module>\u001b[0;34m\u001b[0m\n\u001b[1;32m      5\u001b[0m \u001b[0;34m\u001b[0m\u001b[0m\n\u001b[1;32m      6\u001b[0m \u001b[0;31m# Import API key\u001b[0m\u001b[0;34m\u001b[0m\u001b[0;34m\u001b[0m\u001b[0m\n\u001b[0;32m----> 7\u001b[0;31m \u001b[0;32mfrom\u001b[0m \u001b[0mapi_key\u001b[0m \u001b[0;32mimport\u001b[0m \u001b[0mgeoapify_key\u001b[0m\u001b[0;34m\u001b[0m\u001b[0;34m\u001b[0m\u001b[0m\n\u001b[0m",
      "\u001b[0;31mModuleNotFoundError\u001b[0m: No module named 'api_key'"
     ]
    }
   ],
   "source": [
    "# Dependencies and Setup\n",
    "import hvplot.pandas\n",
    "import pandas as pd\n",
    "import requests\n",
    "\n",
    "# Import API key\n",
    "from api_key import geoapify_key"
   ]
  },
  {
   "cell_type": "code",
   "execution_count": 4,
   "metadata": {},
   "outputs": [
    {
     "data": {
      "text/html": [
       "<div>\n",
       "<style scoped>\n",
       "    .dataframe tbody tr th:only-of-type {\n",
       "        vertical-align: middle;\n",
       "    }\n",
       "\n",
       "    .dataframe tbody tr th {\n",
       "        vertical-align: top;\n",
       "    }\n",
       "\n",
       "    .dataframe thead th {\n",
       "        text-align: right;\n",
       "    }\n",
       "</style>\n",
       "<table border=\"1\" class=\"dataframe\">\n",
       "  <thead>\n",
       "    <tr style=\"text-align: right;\">\n",
       "      <th></th>\n",
       "      <th>City_ID</th>\n",
       "      <th>City</th>\n",
       "      <th>Lat</th>\n",
       "      <th>Lng</th>\n",
       "      <th>Max Temp</th>\n",
       "      <th>Humidity</th>\n",
       "      <th>Cloudiness</th>\n",
       "      <th>Wind Speed</th>\n",
       "      <th>Country</th>\n",
       "      <th>Date</th>\n",
       "    </tr>\n",
       "  </thead>\n",
       "  <tbody>\n",
       "    <tr>\n",
       "      <th>0</th>\n",
       "      <td>0</td>\n",
       "      <td>cape town</td>\n",
       "      <td>-33.9258</td>\n",
       "      <td>18.4232</td>\n",
       "      <td>19.65</td>\n",
       "      <td>58</td>\n",
       "      <td>0</td>\n",
       "      <td>4.92</td>\n",
       "      <td>ZA</td>\n",
       "      <td>1674962952</td>\n",
       "    </tr>\n",
       "    <tr>\n",
       "      <th>1</th>\n",
       "      <td>1</td>\n",
       "      <td>vicosa</td>\n",
       "      <td>-20.7539</td>\n",
       "      <td>-42.8819</td>\n",
       "      <td>19.76</td>\n",
       "      <td>96</td>\n",
       "      <td>100</td>\n",
       "      <td>1.99</td>\n",
       "      <td>BR</td>\n",
       "      <td>1674962953</td>\n",
       "    </tr>\n",
       "    <tr>\n",
       "      <th>2</th>\n",
       "      <td>2</td>\n",
       "      <td>luderitz</td>\n",
       "      <td>-26.6481</td>\n",
       "      <td>15.1594</td>\n",
       "      <td>16.77</td>\n",
       "      <td>79</td>\n",
       "      <td>0</td>\n",
       "      <td>9.60</td>\n",
       "      <td>NaN</td>\n",
       "      <td>1674962954</td>\n",
       "    </tr>\n",
       "    <tr>\n",
       "      <th>3</th>\n",
       "      <td>3</td>\n",
       "      <td>rosetta</td>\n",
       "      <td>31.4044</td>\n",
       "      <td>30.4164</td>\n",
       "      <td>15.01</td>\n",
       "      <td>69</td>\n",
       "      <td>0</td>\n",
       "      <td>3.31</td>\n",
       "      <td>EG</td>\n",
       "      <td>1674962954</td>\n",
       "    </tr>\n",
       "    <tr>\n",
       "      <th>4</th>\n",
       "      <td>4</td>\n",
       "      <td>voloshka</td>\n",
       "      <td>61.3314</td>\n",
       "      <td>40.0858</td>\n",
       "      <td>-10.09</td>\n",
       "      <td>94</td>\n",
       "      <td>100</td>\n",
       "      <td>4.41</td>\n",
       "      <td>RU</td>\n",
       "      <td>1674962955</td>\n",
       "    </tr>\n",
       "  </tbody>\n",
       "</table>\n",
       "</div>"
      ],
      "text/plain": [
       "   City_ID       City      Lat      Lng  Max Temp  Humidity  Cloudiness  \\\n",
       "0        0  cape town -33.9258  18.4232     19.65        58           0   \n",
       "1        1     vicosa -20.7539 -42.8819     19.76        96         100   \n",
       "2        2   luderitz -26.6481  15.1594     16.77        79           0   \n",
       "3        3    rosetta  31.4044  30.4164     15.01        69           0   \n",
       "4        4   voloshka  61.3314  40.0858    -10.09        94         100   \n",
       "\n",
       "   Wind Speed Country        Date  \n",
       "0        4.92      ZA  1674962952  \n",
       "1        1.99      BR  1674962953  \n",
       "2        9.60     NaN  1674962954  \n",
       "3        3.31      EG  1674962954  \n",
       "4        4.41      RU  1674962955  "
      ]
     },
     "execution_count": 4,
     "metadata": {},
     "output_type": "execute_result"
    }
   ],
   "source": [
    "# Load the CSV file created in Part 1 into a Pandas DataFrame\n",
    "city_data_df = pd.read_csv(\"output_data/cities.csv\")\n",
    "\n",
    "# Display sample data\n",
    "city_data_df.head()"
   ]
  },
  {
   "cell_type": "markdown",
   "metadata": {},
   "source": [
    "---\n",
    "\n",
    "### Step 1: Create a map that displays a point for every city in the `city_data_df` DataFrame. The size of the point should be the humidity in each city."
   ]
  },
  {
   "cell_type": "code",
   "execution_count": 5,
   "metadata": {},
   "outputs": [
    {
     "data": {},
     "metadata": {},
     "output_type": "display_data"
    },
    {
     "data": {
      "application/vnd.holoviews_exec.v0+json": "",
      "text/html": [
       "<div id='1004'>\n",
       "  <div class=\"bk-root\" id=\"2f1549cd-19ca-4997-a1a1-000211758ee2\" data-root-id=\"1004\"></div>\n",
       "</div>\n",
       "<script type=\"application/javascript\">(function(root) {\n",
       "  function embed_document(root) {\n",
       "    var docs_json = {\"aaf30ac6-2aab-42b6-82f2-55361f9d0353\":{\"defs\":[{\"extends\":null,\"module\":null,\"name\":\"ReactiveHTML1\",\"overrides\":[],\"properties\":[]},{\"extends\":null,\"module\":null,\"name\":\"FlexBox1\",\"overrides\":[],\"properties\":[{\"default\":\"flex-start\",\"kind\":null,\"name\":\"align_content\"},{\"default\":\"flex-start\",\"kind\":null,\"name\":\"align_items\"},{\"default\":\"row\",\"kind\":null,\"name\":\"flex_direction\"},{\"default\":\"wrap\",\"kind\":null,\"name\":\"flex_wrap\"},{\"default\":\"flex-start\",\"kind\":null,\"name\":\"justify_content\"}]},{\"extends\":null,\"module\":null,\"name\":\"GridStack1\",\"overrides\":[],\"properties\":[{\"default\":\"warn\",\"kind\":null,\"name\":\"mode\"},{\"default\":null,\"kind\":null,\"name\":\"ncols\"},{\"default\":null,\"kind\":null,\"name\":\"nrows\"},{\"default\":true,\"kind\":null,\"name\":\"allow_resize\"},{\"default\":true,\"kind\":null,\"name\":\"allow_drag\"},{\"default\":[],\"kind\":null,\"name\":\"state\"}]},{\"extends\":null,\"module\":null,\"name\":\"click1\",\"overrides\":[],\"properties\":[{\"default\":\"\",\"kind\":null,\"name\":\"terminal_output\"},{\"default\":\"\",\"kind\":null,\"name\":\"debug_name\"},{\"default\":0,\"kind\":null,\"name\":\"clears\"}]},{\"extends\":null,\"module\":null,\"name\":\"NotificationAreaBase1\",\"overrides\":[],\"properties\":[{\"default\":\"bottom-right\",\"kind\":null,\"name\":\"position\"},{\"default\":0,\"kind\":null,\"name\":\"_clear\"}]},{\"extends\":null,\"module\":null,\"name\":\"NotificationArea1\",\"overrides\":[],\"properties\":[{\"default\":[],\"kind\":null,\"name\":\"notifications\"},{\"default\":\"bottom-right\",\"kind\":null,\"name\":\"position\"},{\"default\":0,\"kind\":null,\"name\":\"_clear\"},{\"default\":[{\"background\":\"#ffc107\",\"icon\":{\"className\":\"fas fa-exclamation-triangle\",\"color\":\"white\",\"tagName\":\"i\"},\"type\":\"warning\"},{\"background\":\"#007bff\",\"icon\":{\"className\":\"fas fa-info-circle\",\"color\":\"white\",\"tagName\":\"i\"},\"type\":\"info\"}],\"kind\":null,\"name\":\"types\"}]},{\"extends\":null,\"module\":null,\"name\":\"Notification\",\"overrides\":[],\"properties\":[{\"default\":null,\"kind\":null,\"name\":\"background\"},{\"default\":3000,\"kind\":null,\"name\":\"duration\"},{\"default\":null,\"kind\":null,\"name\":\"icon\"},{\"default\":\"\",\"kind\":null,\"name\":\"message\"},{\"default\":null,\"kind\":null,\"name\":\"notification_type\"},{\"default\":false,\"kind\":null,\"name\":\"_destroyed\"}]},{\"extends\":null,\"module\":null,\"name\":\"TemplateActions1\",\"overrides\":[],\"properties\":[{\"default\":0,\"kind\":null,\"name\":\"open_modal\"},{\"default\":0,\"kind\":null,\"name\":\"close_modal\"}]},{\"extends\":null,\"module\":null,\"name\":\"MaterialTemplateActions1\",\"overrides\":[],\"properties\":[{\"default\":0,\"kind\":null,\"name\":\"open_modal\"},{\"default\":0,\"kind\":null,\"name\":\"close_modal\"}]}],\"roots\":{\"references\":[{\"attributes\":{\"zoom_on_axis\":false},\"id\":\"1036\",\"type\":\"WheelZoomTool\"},{\"attributes\":{\"below\":[{\"id\":\"1026\"}],\"center\":[{\"id\":\"1029\"},{\"id\":\"1033\"}],\"frame_height\":600,\"frame_width\":800,\"height\":null,\"left\":[{\"id\":\"1030\"}],\"margin\":[5,5,5,5],\"match_aspect\":true,\"min_border_bottom\":10,\"min_border_left\":10,\"min_border_right\":10,\"min_border_top\":10,\"renderers\":[{\"id\":\"1078\"},{\"id\":\"1086\"}],\"sizing_mode\":\"fixed\",\"title\":{\"id\":\"1018\"},\"toolbar\":{\"id\":\"1040\"},\"width\":null,\"x_range\":{\"id\":\"1010\"},\"x_scale\":{\"id\":\"1022\"},\"y_range\":{\"id\":\"1011\"},\"y_scale\":{\"id\":\"1024\"}},\"id\":\"1017\",\"subtype\":\"Figure\",\"type\":\"Plot\"},{\"attributes\":{\"axis\":{\"id\":\"1030\"},\"coordinates\":null,\"dimension\":1,\"grid_line_color\":null,\"group\":null,\"ticker\":null},\"id\":\"1033\",\"type\":\"Grid\"},{\"attributes\":{\"callback\":null,\"formatters\":{\"$x\":{\"id\":\"1088\"},\"$y\":{\"id\":\"1089\"}},\"renderers\":[{\"id\":\"1086\"}],\"tags\":[\"hv_created\"],\"tooltips\":[[\"Lng\",\"$x{custom}\"],[\"Lat\",\"$y{custom}\"],[\"Humidity\",\"@{Humidity}\"]]},\"id\":\"1014\",\"type\":\"HoverTool\"},{\"attributes\":{\"coordinates\":null,\"group\":null,\"level\":\"glyph\",\"tile_source\":{\"id\":\"1075\"}},\"id\":\"1078\",\"type\":\"TileRenderer\"},{\"attributes\":{\"coordinates\":null,\"group\":null,\"text_color\":\"black\",\"text_font_size\":\"12pt\"},\"id\":\"1018\",\"type\":\"Title\"},{\"attributes\":{\"axis_label\":\"x\",\"coordinates\":null,\"formatter\":{\"id\":\"1050\"},\"group\":null,\"major_label_policy\":{\"id\":\"1055\"},\"ticker\":{\"id\":\"1049\"}},\"id\":\"1026\",\"type\":\"LinearAxis\"},{\"attributes\":{\"end\":20791365.665228724,\"min_interval\":5,\"reset_end\":20791365.665228724,\"reset_start\":-13627722.62603337,\"start\":-13627722.62603337,\"tags\":[[[\"Lat\",\"Lat\",null]]]},\"id\":\"1011\",\"type\":\"Range1d\"},{\"attributes\":{\"dimension\":\"lat\"},\"id\":\"1051\",\"type\":\"MercatorTicker\"},{\"attributes\":{\"children\":[{\"id\":\"1005\"},{\"id\":\"1017\"},{\"id\":\"1097\"}],\"margin\":[0,0,0,0],\"name\":\"Row01543\",\"tags\":[\"embedded\"]},\"id\":\"1004\",\"type\":\"Row\"},{\"attributes\":{\"margin\":[5,5,5,5],\"name\":\"HSpacer01548\",\"sizing_mode\":\"stretch_width\"},\"id\":\"1097\",\"type\":\"Spacer\"},{\"attributes\":{\"margin\":[5,5,5,5],\"name\":\"HSpacer01547\",\"sizing_mode\":\"stretch_width\"},\"id\":\"1005\",\"type\":\"Spacer\"},{\"attributes\":{\"tools\":[{\"id\":\"1014\"},{\"id\":\"1034\"},{\"id\":\"1035\"},{\"id\":\"1036\"},{\"id\":\"1037\"},{\"id\":\"1038\"}]},\"id\":\"1040\",\"type\":\"Toolbar\"},{\"attributes\":{},\"id\":\"1055\",\"type\":\"AllLabels\"},{\"attributes\":{\"code\":\"\\n        var projections = Bokeh.require(\\\"core/util/projections\\\");\\n        var x = special_vars.data_x\\n        var y = special_vars.data_y\\n        var coords = projections.wgs84_mercator.invert(x, y)\\n        return \\\"\\\" + (coords[0]).toFixed(4)\\n    \"},\"id\":\"1088\",\"type\":\"CustomJSHover\"},{\"attributes\":{\"dimension\":\"lon\"},\"id\":\"1050\",\"type\":\"MercatorTickFormatter\"},{\"attributes\":{},\"id\":\"1034\",\"type\":\"SaveTool\"},{\"attributes\":{\"dimension\":\"lon\"},\"id\":\"1049\",\"type\":\"MercatorTicker\"},{\"attributes\":{\"axis_label\":\"y\",\"coordinates\":null,\"formatter\":{\"id\":\"1052\"},\"group\":null,\"major_label_policy\":{\"id\":\"1062\"},\"ticker\":{\"id\":\"1051\"}},\"id\":\"1030\",\"type\":\"LinearAxis\"},{\"attributes\":{\"coordinates\":null,\"data_source\":{\"id\":\"1080\"},\"glyph\":{\"id\":\"1083\"},\"group\":null,\"hover_glyph\":null,\"muted_glyph\":{\"id\":\"1085\"},\"nonselection_glyph\":{\"id\":\"1084\"},\"selection_glyph\":{\"id\":\"1090\"},\"view\":{\"id\":\"1087\"}},\"id\":\"1086\",\"type\":\"GlyphRenderer\"},{\"attributes\":{\"attribution\":\"&copy; <a href=\\\"https://www.openstreetmap.org/copyright\\\">OpenStreetMap</a> contributors\",\"url\":\"https://c.tile.openstreetmap.org/{Z}/{X}/{Y}.png\"},\"id\":\"1075\",\"type\":\"WMTSTileSource\"},{\"attributes\":{},\"id\":\"1035\",\"type\":\"PanTool\"},{\"attributes\":{},\"id\":\"1062\",\"type\":\"AllLabels\"},{\"attributes\":{\"data\":{\"Humidity\":[58,96,79,69,94,72,45,82,74,74,28,76,78,30,76,51,85,82,100,100,68,15,74,82,71,67,80,75,89,79,67,100,91,58,99,44,67,75,79,71,81,81,90,76,83,70,84,58,40,62,78,84,85,38,72,90,90,76,88,94,99,76,79,64,84,79,69,67,84,89,92,74,88,35,96,87,51,77,65,69,100,100,92,61,89,79,54,77,41,45,14,98,93,77,98,92,46,69,83,89,89,77,75,89,62,92,69,84,98,72,77,32,38,79,88,91,78,78,70,76,95,68,53,95,71,67,89,88,97,89,96,60,99,62,75,53,89,93,36,97,88,85,51,37,60,29,78,75,74,76,87,56,86,90,61,93,95,98,93,52,61,71,79,99,78,75,95,80,51,89,55,71,29,74,90,42,75,97,100,75,80,42,75,80,76,88,17,25,85,72,71,100,45,67,96,94,54,87,70,58,84,85,90,91,58,88,74,87,72,77,62,55,69,83,92,80,93,99,76,31,68,81,99,94,87,70,80,87,56,93,89,34,76,80,83,97,81,67,97,60,93,88,80,20,74,51,94,95,76,55,58,63,81,97,72,64,77,20,83,83,32,83,90,88,87,87,76,90,70,78,80,71,78,71,73,69,70,80,91,97,71,80,49,99,68,28,80,97,20,40,82,51,78,81,80,76,81,88,13,86,44,99,93,84,21,99,60,66,87,87,46,69,60,51,35,45,76,88,37,75,100,96,73,100,63,69,96,84,70,59,92,25,70,94,82,89,40,100,98,30,95,63,24,73,86,93,93,76,92,81,94,68,98,92,96,62,100,75,89,49,66,66,94,88,77,69,93,86,85,100,86,80,33,14,93,97,26,67,90,93,88,91,74,97,87,42,89,51,82,32,49,40,100,57,80,63,98,31,97,74,57,93,84,12,75,69,18,78,99,68,89,88,90,76,31,20,79,77,49,69,89,96,97,31,93,97,98,85,95,72,78,100,91,88,49,78,92,90,96,94,87,40,97,86,25,95,74,51,89,88,13,75,87,48,96,87,43,79,14,67,67,71,70,50,70,86,89,80,93,89,95,90,91,35,78,93,71,80,71,83,87,74,83,81,85,76,79,82,66,82,51,96,80,71,80,27,54,87,54,58,95,84,91,96,77,87,85,93,95,92,80,99,85,75,76,96,83,73,51,63,12,68,48,98,93,89,77,55,67,70,52,24,45,68,71,81,87,79,87,65,80,98,77,89,80,75,30,75,91,15,95,93,67,70,33,82,74,80,77,81,81,75,65,74,66,80,95,68,28,55,81,76,57,23,79,66,39,24,54,75],\"Lat\":{\"__ndarray__\":\"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\",\"dtype\":\"float64\",\"order\":\"little\",\"shape\":[580]},\"Lng\":{\"__ndarray__\":\"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\",\"dtype\":\"float64\",\"order\":\"little\",\"shape\":[580]},\"size\":{\"__ndarray__\":\"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\",\"dtype\":\"float64\",\"order\":\"little\",\"shape\":[580]}},\"selected\":{\"id\":\"1081\"},\"selection_policy\":{\"id\":\"1094\"}},\"id\":\"1080\",\"type\":\"ColumnDataSource\"},{\"attributes\":{\"fill_alpha\":{\"value\":0.2},\"fill_color\":{\"value\":\"#30a2da\"},\"hatch_alpha\":{\"value\":0.2},\"hatch_color\":{\"value\":\"#30a2da\"},\"line_alpha\":{\"value\":0.2},\"line_color\":{\"value\":\"#30a2da\"},\"size\":{\"field\":\"size\"},\"x\":{\"field\":\"Lng\"},\"y\":{\"field\":\"Lat\"}},\"id\":\"1085\",\"type\":\"Scatter\"},{\"attributes\":{},\"id\":\"1022\",\"type\":\"LinearScale\"},{\"attributes\":{},\"id\":\"1094\",\"type\":\"UnionRenderers\"},{\"attributes\":{\"code\":\"\\n        var projections = Bokeh.require(\\\"core/util/projections\\\");\\n        var x = special_vars.data_x\\n        var y = special_vars.data_y\\n        var coords = projections.wgs84_mercator.invert(x, y)\\n        return \\\"\\\" + (coords[1]).toFixed(4)\\n    \"},\"id\":\"1089\",\"type\":\"CustomJSHover\"},{\"attributes\":{\"angle\":{\"value\":0.0},\"fill_alpha\":{\"value\":1.0},\"fill_color\":{\"value\":\"#30a2da\"},\"hatch_alpha\":{\"value\":1.0},\"hatch_color\":{\"value\":\"#30a2da\"},\"hatch_scale\":{\"value\":12.0},\"hatch_weight\":{\"value\":1.0},\"line_alpha\":{\"value\":1.0},\"line_cap\":{\"value\":\"butt\"},\"line_color\":{\"value\":\"#30a2da\"},\"line_dash\":{\"value\":[]},\"line_dash_offset\":{\"value\":0},\"line_join\":{\"value\":\"bevel\"},\"line_width\":{\"value\":1},\"marker\":{\"value\":\"circle\"},\"size\":{\"field\":\"size\"},\"x\":{\"field\":\"Lng\"},\"y\":{\"field\":\"Lat\"}},\"id\":\"1090\",\"type\":\"Scatter\"},{\"attributes\":{},\"id\":\"1024\",\"type\":\"LinearScale\"},{\"attributes\":{},\"id\":\"1081\",\"type\":\"Selection\"},{\"attributes\":{\"bottom_units\":\"screen\",\"coordinates\":null,\"fill_alpha\":0.5,\"fill_color\":\"lightgrey\",\"group\":null,\"left_units\":\"screen\",\"level\":\"overlay\",\"line_alpha\":1.0,\"line_color\":\"black\",\"line_dash\":[4,4],\"line_width\":2,\"right_units\":\"screen\",\"syncable\":false,\"top_units\":\"screen\"},\"id\":\"1039\",\"type\":\"BoxAnnotation\"},{\"attributes\":{\"fill_alpha\":{\"value\":0.1},\"fill_color\":{\"value\":\"#30a2da\"},\"hatch_alpha\":{\"value\":0.1},\"hatch_color\":{\"value\":\"#30a2da\"},\"line_alpha\":{\"value\":0.1},\"line_color\":{\"value\":\"#30a2da\"},\"size\":{\"field\":\"size\"},\"x\":{\"field\":\"Lng\"},\"y\":{\"field\":\"Lat\"}},\"id\":\"1084\",\"type\":\"Scatter\"},{\"attributes\":{\"match_aspect\":true,\"overlay\":{\"id\":\"1039\"}},\"id\":\"1037\",\"type\":\"BoxZoomTool\"},{\"attributes\":{\"dimension\":\"lat\"},\"id\":\"1052\",\"type\":\"MercatorTickFormatter\"},{\"attributes\":{},\"id\":\"1038\",\"type\":\"ResetTool\"},{\"attributes\":{\"end\":22954407.822650887,\"min_interval\":5,\"reset_end\":22954407.822650887,\"reset_start\":-22937709.8990319,\"start\":-22937709.8990319,\"tags\":[[[\"Lng\",\"Lng\",null]]]},\"id\":\"1010\",\"type\":\"Range1d\"},{\"attributes\":{\"axis\":{\"id\":\"1026\"},\"coordinates\":null,\"grid_line_color\":null,\"group\":null,\"ticker\":null},\"id\":\"1029\",\"type\":\"Grid\"},{\"attributes\":{\"fill_color\":{\"value\":\"#30a2da\"},\"hatch_color\":{\"value\":\"#30a2da\"},\"line_color\":{\"value\":\"#30a2da\"},\"size\":{\"field\":\"size\"},\"x\":{\"field\":\"Lng\"},\"y\":{\"field\":\"Lat\"}},\"id\":\"1083\",\"type\":\"Scatter\"},{\"attributes\":{\"source\":{\"id\":\"1080\"}},\"id\":\"1087\",\"type\":\"CDSView\"}],\"root_ids\":[\"1004\"]},\"title\":\"Bokeh Application\",\"version\":\"2.4.3\"}};\n",
       "    var render_items = [{\"docid\":\"aaf30ac6-2aab-42b6-82f2-55361f9d0353\",\"root_ids\":[\"1004\"],\"roots\":{\"1004\":\"2f1549cd-19ca-4997-a1a1-000211758ee2\"}}];\n",
       "    root.Bokeh.embed.embed_items_notebook(docs_json, render_items);\n",
       "  }\n",
       "  if (root.Bokeh !== undefined && root.Bokeh.Panel !== undefined) {\n",
       "    embed_document(root);\n",
       "  } else {\n",
       "    var attempts = 0;\n",
       "    var timer = setInterval(function(root) {\n",
       "      if (root.Bokeh !== undefined && root.Bokeh.Panel !== undefined) {\n",
       "        clearInterval(timer);\n",
       "        embed_document(root);\n",
       "      } else if (document.readyState == \"complete\") {\n",
       "        attempts++;\n",
       "        if (attempts > 200) {\n",
       "          clearInterval(timer);\n",
       "          console.log(\"Bokeh: ERROR: Unable to run BokehJS code because BokehJS library is missing\");\n",
       "        }\n",
       "      }\n",
       "    }, 25, root)\n",
       "  }\n",
       "})(window);</script>"
      ],
      "text/plain": [
       ":Overlay\n",
       "   .Tiles.I  :Tiles   [x,y]\n",
       "   .Points.I :Points   [Lng,Lat]   (Humidity)"
      ]
     },
     "execution_count": 5,
     "metadata": {
      "application/vnd.holoviews_exec.v0+json": {
       "id": "1004"
      }
     },
     "output_type": "execute_result"
    }
   ],
   "source": [
    "%%capture --no-display\n",
    "# Configure the map plot\n",
    "map_plot_1 = city_data_df.hvplot.points(\n",
    "    \"Lng\",\n",
    "    \"Lat\",\n",
    "    geo = True,\n",
    "    tiles = \"OSM\",\n",
    "    frame_width = 800,\n",
    "    frame_height = 600,\n",
    "    size = \"Humidity\"\n",
    ")\n",
    "\n",
    "\n",
    "# Display the map\n",
    "map_plot_1"
   ]
  },
  {
   "cell_type": "markdown",
   "metadata": {},
   "source": [
    "### Step 2: Narrow down the `city_data_df` DataFrame to find your ideal weather condition"
   ]
  },
  {
   "cell_type": "code",
   "execution_count": null,
   "metadata": {},
   "outputs": [],
   "source": [
    "# Narrow down cities that fit criteria and drop any results with null values\n",
    "# YOUR CODE HERE\n",
    "\n",
    "# Drop any rows with null values\n",
    "# YOUR CODE HERE\n",
    "\n",
    "# Display sample data\n",
    "# YOUR CODE HERE"
   ]
  },
  {
   "cell_type": "markdown",
   "metadata": {},
   "source": [
    "### Step 3: Create a new DataFrame called `hotel_df`."
   ]
  },
  {
   "cell_type": "code",
   "execution_count": null,
   "metadata": {},
   "outputs": [],
   "source": [
    "# Use the Pandas copy function to create DataFrame called hotel_df to store the city, country, coordinates, and humidity\n",
    "# YOUR CODE HERE\n",
    "\n",
    "# Add an empty column, \"Hotel Name,\" to the DataFrame so you can store the hotel found using the Geoapify API\n",
    "# YOUR CODE HERE\n",
    "\n",
    "# Display sample data\n",
    "# YOUR CODE HERE"
   ]
  },
  {
   "cell_type": "markdown",
   "metadata": {},
   "source": [
    "### Step 4: For each city, use the Geoapify API to find the first hotel located within 10,000 metres of your coordinates."
   ]
  },
  {
   "cell_type": "code",
   "execution_count": null,
   "metadata": {},
   "outputs": [],
   "source": [
    "# Set parameters to search for a hotel\n",
    "radius = # YOUR CODE HERE\n",
    "params = {\n",
    "    # YOUR CODE HERE\n",
    "}\n",
    "\n",
    "# Print a message to follow up the hotel search\n",
    "print(\"Starting hotel search\")\n",
    "\n",
    "# Iterate through the hotel_df DataFrame\n",
    "for index, row in hotel_df.iterrows():\n",
    "    # get latitude, longitude from the DataFrame\n",
    "    # YOUR CODE HERE\n",
    "    \n",
    "    # Add filter and bias parameters with the current city's latitude and longitude to the params dictionary\n",
    "    params[\"filter\"] = # YOUR CODE HERE\n",
    "    params[\"bias\"] = # YOUR CODE HERE\n",
    "    \n",
    "    # Set base URL\n",
    "    base_url = \"https://api.geoapify.com/v2/places\"\n",
    "\n",
    "\n",
    "    # Make and API request using the params dictionaty\n",
    "    name_address = # YOUR CODE HERE\n",
    "    \n",
    "    # Convert the API response to JSON format\n",
    "    name_address = # YOUR CODE HERE\n",
    "    \n",
    "    # Grab the first hotel from the results and store the name in the hotel_df DataFrame\n",
    "    try:\n",
    "        hotel_df.loc[index, \"Hotel Name\"] = name_address[\"features\"][0][\"properties\"][\"name\"]\n",
    "    except (KeyError, IndexError):\n",
    "        # If no hotel is found, set the hotel name as \"No hotel found\".\n",
    "        hotel_df.loc[index, \"Hotel Name\"] = \"No hotel found\"\n",
    "        \n",
    "    # Log the search results\n",
    "    print(f\"{hotel_df.loc[index, 'City']} - nearest hotel: {hotel_df.loc[index, 'Hotel Name']}\")\n",
    "\n",
    "# Display sample data\n",
    "hotel_df"
   ]
  },
  {
   "cell_type": "markdown",
   "metadata": {},
   "source": [
    "### Step 5: Add the hotel name and the country as additional information in the hover message for each city in the map."
   ]
  },
  {
   "cell_type": "code",
   "execution_count": null,
   "metadata": {},
   "outputs": [],
   "source": [
    "%%capture --no-display\n",
    "\n",
    "# Configure the map plot\n",
    "# YOUR CODE HERE\n",
    "\n",
    "# Display the map\n",
    "# YOUR CODE HERE"
   ]
  },
  {
   "cell_type": "code",
   "execution_count": null,
   "metadata": {},
   "outputs": [],
   "source": []
  }
 ],
 "metadata": {
  "kernelspec": {
   "display_name": "Python 3 (ipykernel)",
   "language": "python",
   "name": "python3"
  },
  "language_info": {
   "codemirror_mode": {
    "name": "ipython",
    "version": 3
   },
   "file_extension": ".py",
   "mimetype": "text/x-python",
   "name": "python",
   "nbconvert_exporter": "python",
   "pygments_lexer": "ipython3",
   "version": "3.9.13"
  },
  "latex_envs": {
   "LaTeX_envs_menu_present": true,
   "autoclose": false,
   "autocomplete": true,
   "bibliofile": "biblio.bib",
   "cite_by": "apalike",
   "current_citInitial": 1,
   "eqLabelWithNumbers": true,
   "eqNumInitial": 1,
   "hotkeys": {
    "equation": "Ctrl-E",
    "itemize": "Ctrl-I"
   },
   "labels_anchors": false,
   "latex_user_defs": false,
   "report_style_numbering": false,
   "user_envs_cfg": false
  },
  "vscode": {
   "interpreter": {
    "hash": "aee8b7b246df8f9039afb4144a1f6fd8d2ca17a180786b69acc140d282b71a49"
   }
  }
 },
 "nbformat": 4,
 "nbformat_minor": 4
}
